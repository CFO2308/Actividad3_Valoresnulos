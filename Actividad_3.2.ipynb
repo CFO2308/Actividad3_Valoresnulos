{
 "cells": [
  {
   "cell_type": "code",
   "execution_count": null,
   "metadata": {},
   "outputs": [],
   "source": [
    "import pandas as pd"
   ]
  },
  {
   "cell_type": "markdown",
   "metadata": {},
   "source": [
    "Cargamos el archivo csv"
   ]
  },
  {
   "cell_type": "code",
   "execution_count": null,
   "metadata": {},
   "outputs": [],
   "source": [
    "Belize_data =pd.read_csv('Belize.csv')\n",
    "Belize_data\n",
    "pd.options.display.max_rows = None\n",
    "Belize_data"
   ]
  },
  {
   "cell_type": "markdown",
   "metadata": {},
   "source": [
    "Pedimos la informacion de nuestros tipos de datos en el csv"
   ]
  },
  {
   "cell_type": "code",
   "execution_count": null,
   "metadata": {},
   "outputs": [],
   "source": [
    "Belize_data.info()"
   ]
  },
  {
   "cell_type": "markdown",
   "metadata": {},
   "source": [
    "Definimos la variable dataframe y realizamos las funciones de invoacion para mas adelante convertir los reemplazos en csv con su debida funcion de salida."
   ]
  },
  {
   "cell_type": "code",
   "execution_count": null,
   "metadata": {},
   "outputs": [],
   "source": [
    "dataframe = Belize_data"
   ]
  },
  {
   "cell_type": "code",
   "execution_count": null,
   "metadata": {},
   "outputs": [],
   "source": [
    "def cuenta_valores_nulos(dataframe):\n",
    "    #Valores nulos por columna\n",
    "    valores_nulos_cols= dataframe.isnull().sum()\n",
    "    #Valores nulos por dataframe\n",
    "    valores_nulos_df= dataframe.isnull().sum().sum()\n",
    "\n",
    "    return(\"Valores nulos por columna\", valores_nulos_cols,\n",
    "           \"Valores nulos por dataframe\", valores_nulos_df)"
   ]
  },
  {
   "cell_type": "code",
   "execution_count": null,
   "metadata": {},
   "outputs": [],
   "source": [
    "cuenta_valores_nulos(Belize_data)"
   ]
  },
  {
   "cell_type": "code",
   "execution_count": null,
   "metadata": {},
   "outputs": [],
   "source": [
    "def sustitucion_mediana(dataframe):\n",
    "    #Separo columnas cuantitativas del dataframe\n",
    "    cuantitativas_con_nulos = dataframe.select_dtypes(include=['float64', 'int64', 'float', 'int'])\n",
    "    #Separo columnas cualitativas del dataframe\n",
    "    cualitativas = dataframe.select_dtypes(include=['object','datetime','category'])\n",
    "    \n",
    "    #Sustituir valores nulos con promedio o media\n",
    "    cuantitativas = cuantitativas_con_nulos.fillna(round(cuantitativas_con_nulos.median(), 1))\n",
    "    #Unimos el dataframe cuantitativo limpio con el dataframe cualitativo\n",
    "    datos_sin_nulos = pd.concat([cuantitativas, cualitativas], axis=1)\n",
    "\n",
    "    return(datos_sin_nulos)"
   ]
  },
  {
   "cell_type": "code",
   "execution_count": null,
   "metadata": {},
   "outputs": [],
   "source": [
    "def sustitucion_ffill(dataframe):\n",
    "    #Separo columnas cuantitativas del dataframe\n",
    "    cuantitativas_con_nulos = dataframe.select_dtypes(include=['float64', 'int64', 'float', 'int'])\n",
    "    #Separo columnas cualitativas del dataframe\n",
    "    cualitativas_con_nulos = dataframe.select_dtypes(include=['object','datetime','category'])\n",
    "    \n",
    "    #Sustituir valores nulos con promedio o media\n",
    "    cualitativas = cualitativas_con_nulos.fillna(method=\"ffill\")\n",
    "    #Unimos el dataframe cuantitativo limpio con el dataframe cualitativo\n",
    "    datos_sin_nulos = pd.concat([cualitativas, cualitativas_con_nulos], axis=1)\n",
    "\n",
    "    return(datos_sin_nulos)"
   ]
  },
  {
   "cell_type": "code",
   "execution_count": null,
   "metadata": {},
   "outputs": [],
   "source": [
    "def sustitucion_bfill(dataframe):\n",
    "    #Separo columnas cuantitativas del dataframe\n",
    "    cuantitativas_con_nulos = dataframe.select_dtypes(include=['float64', 'int64', 'float', 'int'])\n",
    "    #Separo columnas cualitativas del dataframe\n",
    "    cualitativas_con_nulos = dataframe.select_dtypes(include=['object','datetime','category'])\n",
    "    \n",
    "    #Sustituir valores nulos con promedio o media\n",
    "    cualitativas = cualitativas_con_nulos.fillna(method=\"bfill\")\n",
    "    #Unimos el dataframe cuantitativo limpio con el dataframe cualitativo\n",
    "    datos_sin_nulos = pd.concat([cualitativas, cualitativas_con_nulos], axis=1)\n",
    "\n",
    "    return(datos_sin_nulos)"
   ]
  },
  {
   "cell_type": "code",
   "execution_count": null,
   "metadata": {},
   "outputs": [],
   "source": [
    "def sustitucion_stringconcreto(dataframe):\n",
    "    #Separo columnas cuantitativas del dataframe\n",
    "    cuantitativas_con_nulos = dataframe.select_dtypes(include=['float64', 'int64', 'float', 'int'])\n",
    "    #Separo columnas cualitativas del dataframe\n",
    "    cualitativas_con_nulos = dataframe.select_dtypes(include=['object','datetime','category'])\n",
    "    \n",
    "    #Sustituir valores nulos con promedio o media\n",
    "    cualitativas = cualitativas_con_nulos.fillna(\"calendar_date\")\n",
    "    #Unimos el dataframe cuantitativo limpio con el dataframe cualitativo\n",
    "    datos_sin_nulos = pd.concat([cualitativas, cuantitativas_con_nulos], axis=1)\n",
    "\n",
    "    return(datos_sin_nulos)"
   ]
  },
  {
   "cell_type": "code",
   "execution_count": null,
   "metadata": {},
   "outputs": [],
   "source": [
    "def sustitucion_constante(dataframe,constante=0):\n",
    "    #Separo columnas cuantitativas del dataframe\n",
    "    cuantitativas_con_nulos = dataframe.select_dtypes(include=['float64', 'int64', 'float', 'int'])\n",
    "    #Separo columnas cualitativas del dataframe\n",
    "    cualitativas_con_nulos = dataframe.select_dtypes(include=['object','datetime','category'])\n",
    "    \n",
    "    #Sustituir valores nulos con promedio o media\n",
    "    cualitativas = cualitativas_con_nulos.fillna(\"f\")\n",
    "    #Unimos el dataframe cuantitativo limpio con el dataframe cualitativo\n",
    "    datos_sin_nulos = pd.concat([cualitativas, cualitativas_con_nulos], axis=1)\n",
    "\n",
    "    return(datos_sin_nulos)"
   ]
  },
  {
   "cell_type": "markdown",
   "metadata": {},
   "source": [
    "Reemplazo con el median"
   ]
  },
  {
   "cell_type": "code",
   "execution_count": null,
   "metadata": {},
   "outputs": [],
   "source": [
    "median_df = sustitucion_mediana(Belize_data.copy())\n",
    "median_df.to_csv(\"Reemplazar_con_metodo_mediana.csv\")"
   ]
  },
  {
   "cell_type": "markdown",
   "metadata": {},
   "source": [
    "Reemplazo con ffill"
   ]
  },
  {
   "cell_type": "code",
   "execution_count": null,
   "metadata": {},
   "outputs": [],
   "source": [
    "ffill_df = sustitucion_ffill(Belize_data.copy())\n",
    "ffill_df.to_csv(\"Reemplazar_con_metodo_ffill.csv\")"
   ]
  },
  {
   "cell_type": "markdown",
   "metadata": {},
   "source": [
    "Reemplazo con bfill"
   ]
  },
  {
   "cell_type": "code",
   "execution_count": null,
   "metadata": {},
   "outputs": [],
   "source": [
    "bfill_df = sustitucion_bfill(Belize_data.copy())\n",
    "bfill_df.to_csv(\"Reemplazar_con_metodo_bfill.csv\")"
   ]
  },
  {
   "cell_type": "markdown",
   "metadata": {},
   "source": [
    "Reemplazo con string concreto"
   ]
  },
  {
   "cell_type": "code",
   "execution_count": null,
   "metadata": {},
   "outputs": [],
   "source": [
    "string_df = sustitucion_stringconcreto(Belize_data.copy())\n",
    "string_df.to_csv(\"Reemplazarcon_con_metodo_stringconcreto.csv\")"
   ]
  },
  {
   "cell_type": "markdown",
   "metadata": {},
   "source": [
    "Reemplazo con constante"
   ]
  },
  {
   "cell_type": "code",
   "execution_count": null,
   "metadata": {},
   "outputs": [],
   "source": [
    "constante_df = sustitucion_constante(Belize_data.copy())\n",
    "constante_df.to_csv(\"Reemplazo_con_metodo_constante.csv\")"
   ]
  },
  {
   "cell_type": "code",
   "execution_count": null,
   "metadata": {},
   "outputs": [],
   "source": [
    "cuenta_valores_nulos(Belize_data)"
   ]
  }
 ],
 "metadata": {
  "kernelspec": {
   "display_name": "Python 3",
   "language": "python",
   "name": "python3"
  },
  "language_info": {
   "codemirror_mode": {
    "name": "ipython",
    "version": 3
   },
   "file_extension": ".py",
   "mimetype": "text/x-python",
   "name": "python",
   "nbconvert_exporter": "python",
   "pygments_lexer": "ipython3",
   "version": "3.13.2"
  }
 },
 "nbformat": 4,
 "nbformat_minor": 2
}
