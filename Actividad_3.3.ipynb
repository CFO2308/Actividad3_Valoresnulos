{
 "cells": [
  {
   "cell_type": "code",
   "execution_count": 27,
   "metadata": {},
   "outputs": [],
   "source": [
    "import pandas as pd\n",
    "import numpy as np \n",
    "import matplotlib.pyplot as plt\n",
    "import json"
   ]
  },
  {
   "cell_type": "code",
   "execution_count": 28,
   "metadata": {},
   "outputs": [],
   "source": [
    "ruta_archivo = \"/Users/carlosfonseca/Desktop/TEC UNI 6 SEMESTRE/Analisis de datos 1/UF1. Mtro Alfredo/Archivos de apoyo/Ejercicios\""
   ]
  },
  {
   "cell_type": "code",
   "execution_count": 29,
   "metadata": {},
   "outputs": [],
   "source": [
    "extension = input(\"Define que tipo de documento es:\")"
   ]
  },
  {
   "cell_type": "code",
   "execution_count": 30,
   "metadata": {},
   "outputs": [],
   "source": [
    "def archivo_dataframe (ruta_archivo):\n",
    "    if extension == '.csv':\n",
    "        df = pd.read_csv(ruta_archivo)\n",
    "    elif extension == '.xlsx':\n",
    "        df = pd.read_excel(ruta_archivo)\n",
    "    elif extension == '.json':\n",
    "        df = pd.read_json(ruta_archivo)\n",
    "    elif extension == '.html':\n",
    "        df = pd.read_html(ruta_archivo)\n",
    "    \n",
    "    return(df)\n",
    "    "
   ]
  },
  {
   "cell_type": "code",
   "execution_count": null,
   "metadata": {},
   "outputs": [],
   "source": []
  }
 ],
 "metadata": {
  "kernelspec": {
   "display_name": "Python 3",
   "language": "python",
   "name": "python3"
  },
  "language_info": {
   "codemirror_mode": {
    "name": "ipython",
    "version": 3
   },
   "file_extension": ".py",
   "mimetype": "text/x-python",
   "name": "python",
   "nbconvert_exporter": "python",
   "pygments_lexer": "ipython3",
   "version": "3.13.2"
  }
 },
 "nbformat": 4,
 "nbformat_minor": 2
}
